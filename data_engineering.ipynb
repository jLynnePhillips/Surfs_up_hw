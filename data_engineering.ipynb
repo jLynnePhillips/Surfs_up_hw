{
 "cells": [
  {
   "cell_type": "code",
   "execution_count": 22,
   "metadata": {
    "collapsed": true
   },
   "outputs": [],
   "source": [
    "import pandas as pd"
   ]
  },
  {
   "cell_type": "code",
   "execution_count": 37,
   "metadata": {
    "collapsed": true
   },
   "outputs": [],
   "source": [
    "#Read in the measurement and station CSV files as DataFrames\n",
    "measurements_path='Resources/hawaii_measurements.csv'\n",
    "stations_path = 'Resources/hawaii_stations.csv'\n",
    "measurements_df = pd.read_csv(measurements_path)\n",
    "stations_df = pd.read_csv(stations_path)"
   ]
  },
  {
   "cell_type": "code",
   "execution_count": 38,
   "metadata": {},
   "outputs": [],
   "source": [
    "#Drop any rows with missing data\n",
    "measurements_df = measurements_df.dropna(how=\"any\")\n",
    "stations_df = stations_df.dropna(how=\"any\")\n",
    "#Reset the index\n",
    "measurements_df = measurements_df.reset_index(drop=True)\n",
    "stations_df = stations_df.reset_index(drop=True)"
   ]
  },
  {
   "cell_type": "code",
   "execution_count": 39,
   "metadata": {
    "collapsed": true
   },
   "outputs": [],
   "source": [
    "#Save the clean CSV files\n",
    "measurements_df.to_csv(\"clean_measurements.csv\",index=False,header=True)\n",
    "stations_df.to_csv(\"clean_stations.csv\",index=False,header=True)"
   ]
  },
  {
   "cell_type": "code",
   "execution_count": null,
   "metadata": {
    "collapsed": true
   },
   "outputs": [],
   "source": [
    "def "
   ]
  }
 ],
 "metadata": {
  "kernelspec": {
   "display_name": "Python [conda env:PythonData]",
   "language": "python",
   "name": "conda-env-PythonData-py"
  },
  "language_info": {
   "codemirror_mode": {
    "name": "ipython",
    "version": 3
   },
   "file_extension": ".py",
   "mimetype": "text/x-python",
   "name": "python",
   "nbconvert_exporter": "python",
   "pygments_lexer": "ipython3",
   "version": "3.6.3"
  }
 },
 "nbformat": 4,
 "nbformat_minor": 2
}
